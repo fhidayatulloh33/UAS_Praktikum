{
  "nbformat": 4,
  "nbformat_minor": 0,
  "metadata": {
    "colab": {
      "name": "Simpel Linear.ipynb",
      "provenance": [],
      "collapsed_sections": []
    },
    "kernelspec": {
      "name": "python3",
      "display_name": "Python 3"
    },
    "language_info": {
      "name": "python"
    }
  },
  "cells": [
    {
      "cell_type": "code",
      "metadata": {
        "colab": {
          "base_uri": "https://localhost:8080/",
          "height": 204
        },
        "id": "jb59piwn2z5J",
        "outputId": "c06f99ac-8547-48a1-8e6b-b71b83b67679"
      },
      "source": [
        "import pandas as pd\n",
        "\n",
        "bola = {'diameter' : [6,8,10,14,18],\n",
        "        'harga' : [7,9,13,17.5,20]}\n",
        "\n",
        "bola_df = pd.DataFrame(bola)\n",
        "bola_df"
      ],
      "execution_count": 4,
      "outputs": [
        {
          "output_type": "execute_result",
          "data": {
            "text/html": [
              "<div>\n",
              "<style scoped>\n",
              "    .dataframe tbody tr th:only-of-type {\n",
              "        vertical-align: middle;\n",
              "    }\n",
              "\n",
              "    .dataframe tbody tr th {\n",
              "        vertical-align: top;\n",
              "    }\n",
              "\n",
              "    .dataframe thead th {\n",
              "        text-align: right;\n",
              "    }\n",
              "</style>\n",
              "<table border=\"1\" class=\"dataframe\">\n",
              "  <thead>\n",
              "    <tr style=\"text-align: right;\">\n",
              "      <th></th>\n",
              "      <th>diameter</th>\n",
              "      <th>harga</th>\n",
              "    </tr>\n",
              "  </thead>\n",
              "  <tbody>\n",
              "    <tr>\n",
              "      <th>0</th>\n",
              "      <td>6</td>\n",
              "      <td>7.0</td>\n",
              "    </tr>\n",
              "    <tr>\n",
              "      <th>1</th>\n",
              "      <td>8</td>\n",
              "      <td>9.0</td>\n",
              "    </tr>\n",
              "    <tr>\n",
              "      <th>2</th>\n",
              "      <td>10</td>\n",
              "      <td>13.0</td>\n",
              "    </tr>\n",
              "    <tr>\n",
              "      <th>3</th>\n",
              "      <td>14</td>\n",
              "      <td>17.5</td>\n",
              "    </tr>\n",
              "    <tr>\n",
              "      <th>4</th>\n",
              "      <td>18</td>\n",
              "      <td>20.0</td>\n",
              "    </tr>\n",
              "  </tbody>\n",
              "</table>\n",
              "</div>"
            ],
            "text/plain": [
              "   diameter  harga\n",
              "0         6    7.0\n",
              "1         8    9.0\n",
              "2        10   13.0\n",
              "3        14   17.5\n",
              "4        18   20.0"
            ]
          },
          "metadata": {},
          "execution_count": 4
        }
      ]
    },
    {
      "cell_type": "code",
      "metadata": {
        "colab": {
          "base_uri": "https://localhost:8080/",
          "height": 295
        },
        "id": "mPX_8SRd4kJ2",
        "outputId": "af96c546-574a-4cde-c31d-90582685d705"
      },
      "source": [
        "import matplotlib.pyplot as plt\n",
        "\n",
        "bola_df.plot(kind='scatter', x='diameter', y='harga')\n",
        "\n",
        "plt.title('Perbandinang Diameter dan Harga Bola')\n",
        "plt.xlabel('Diameter (inchi)')\n",
        "plt.ylabel('Harga (dolar)')\n",
        "plt.xlim(0,25)\n",
        "plt.ylim(0,25)\n",
        "plt.grid(True)\n",
        "plt.show()"
      ],
      "execution_count": 5,
      "outputs": [
        {
          "output_type": "display_data",
          "data": {
            "image/png": "[encoded data removed]",
            "text/plain": [
              "<Figure size 432x288 with 1 Axes>"
            ]
          },
          "metadata": {
            "needs_background": "light"
          }
        }
      ]
    },
    {
      "cell_type": "markdown",
      "metadata": {
        "id": "t5XQmtha6Z_w"
      },
      "source": [
        "**Model Simple Linier Regression**"
      ]
    },
    {
      "cell_type": "markdown",
      "metadata": {
        "id": "8uGXrNWt6ma3"
      },
      "source": [
        "1. Penyesuaian Dataset  "
      ]
    },
    {
      "cell_type": "code",
      "metadata": {
        "colab": {
          "base_uri": "https://localhost:8080/"
        },
        "id": "9HW2GNCs6rwN",
        "outputId": "9355040c-daba-494a-dbf2-8fff5a199eae"
      },
      "source": [
        "import numpy as np\n",
        "\n",
        "x = np.array(bola_df['diameter']) \n",
        "y = np.array(bola_df['harga']) \n",
        "\n",
        "print(f'x :{x}')\n",
        "print(f'y :{y}')"
      ],
      "execution_count": 6,
      "outputs": [
        {
          "output_type": "stream",
          "name": "stdout",
          "text": [
            "x :[ 6  8 10 14 18]\n",
            "y :[ 7.   9.  13.  17.5 20. ]\n"
          ]
        }
      ]
    },
    {
      "cell_type": "code",
      "metadata": {
        "colab": {
          "base_uri": "https://localhost:8080/"
        },
        "id": "PJGr53R27T6k",
        "outputId": "c9871eba-b916-467f-c031-9a03d9527fd3"
      },
      "source": [
        "x = x.reshape(-1,1) \n",
        "x.shape"
      ],
      "execution_count": 7,
      "outputs": [
        {
          "output_type": "execute_result",
          "data": {
            "text/plain": [
              "(5, 1)"
            ]
          },
          "metadata": {},
          "execution_count": 7
        }
      ]
    },
    {
      "cell_type": "code",
      "metadata": {
        "colab": {
          "base_uri": "https://localhost:8080/"
        },
        "id": "GDHBw5qs8APJ",
        "outputId": "abe010e7-c07a-4395-fab9-1bce8d436383"
      },
      "source": [
        "x"
      ],
      "execution_count": 8,
      "outputs": [
        {
          "output_type": "execute_result",
          "data": {
            "text/plain": [
              "array([[ 6],\n",
              "       [ 8],\n",
              "       [10],\n",
              "       [14],\n",
              "       [18]])"
            ]
          },
          "metadata": {},
          "execution_count": 8
        }
      ]
    },
    {
      "cell_type": "markdown",
      "metadata": {
        "id": "96QCKo9g8HSP"
      },
      "source": [
        "**Training Simple Linier Regression Model**"
      ]
    },
    {
      "cell_type": "code",
      "metadata": {
        "colab": {
          "base_uri": "https://localhost:8080/"
        },
        "id": "V4W_VTtz8UUt",
        "outputId": "918b37fa-7187-41f0-9af5-e37d000d6533"
      },
      "source": [
        "from sklearn.linear_model import LinearRegression\n",
        "\n",
        "model = LinearRegression()\n",
        "model.fit(x, y) "
      ],
      "execution_count": 9,
      "outputs": [
        {
          "output_type": "execute_result",
          "data": {
            "text/plain": [
              "LinearRegression(copy_X=True, fit_intercept=True, n_jobs=None, normalize=False)"
            ]
          },
          "metadata": {},
          "execution_count": 9
        }
      ]
    },
    {
      "cell_type": "markdown",
      "metadata": {
        "id": "L-0DYlnt_vSz"
      },
      "source": [
        "**Visualisasi Simple Linear Regression Model**"
      ]
    },
    {
      "cell_type": "code",
      "metadata": {
        "id": "SCo_6x8j_5mP"
      },
      "source": [
        "x_vls = np.array([0,25]).reshape(-1,1)\n",
        "y_vls = model.predict(x_vls)"
      ],
      "execution_count": 10,
      "outputs": []
    },
    {
      "cell_type": "code",
      "metadata": {
        "colab": {
          "base_uri": "https://localhost:8080/",
          "height": 295
        },
        "id": "7s-0H4CZAihg",
        "outputId": "ecbcf2a7-44ca-4f78-fd0d-32e9f3c5d8fc"
      },
      "source": [
        "plt.scatter(x, y)\n",
        "plt.plot(x_vls, y_vls, '-r')\n",
        "\n",
        "plt.title('Perbandinang Diameter dan Harga Bola')\n",
        "plt.xlabel('Diameter (inchi)')\n",
        "plt.ylabel('Harga (dolar)')\n",
        "plt.xlim(0,25)\n",
        "plt.ylim(0,25)\n",
        "plt.grid(True)\n",
        "plt.show()"
      ],
      "execution_count": 11,
      "outputs": [
        {
          "output_type": "display_data",
          "data": {
            "image/png": "[encoded data removed]",
            "text/plain": [
              "<Figure size 432x288 with 1 Axes>"
            ]
          },
          "metadata": {
            "needs_background": "light"
          }
        }
      ]
    },
    {
      "cell_type": "code",
      "metadata": {
        "colab": {
          "base_uri": "https://localhost:8080/"
        },
        "id": "E-X_NajpBH3e",
        "outputId": "f7b58071-30bf-43c4-cdd1-ec2e159eb92f"
      },
      "source": [
        "print(f'intercept: {model.intercept_}')\n",
        "print(f'slope: {model.coef_}')"
      ],
      "execution_count": 12,
      "outputs": [
        {
          "output_type": "stream",
          "name": "stdout",
          "text": [
            "intercept: 0.7241379310344875\n",
            "slope: [1.12284483]\n"
          ]
        }
      ]
    },
    {
      "cell_type": "markdown",
      "metadata": {
        "id": "uiYRa8SfBuqV"
      },
      "source": [
        "**mencari Nilai Slope**"
      ]
    },
    {
      "cell_type": "code",
      "metadata": {
        "colab": {
          "base_uri": "https://localhost:8080/"
        },
        "id": "d2WCPd_VBzaK",
        "outputId": "4bdbf719-38d3-4428-a5c3-e1fa914a632d"
      },
      "source": [
        "print(f'x:\\n{x}\\n')\n",
        "print(f'x flatten : {x.flatten()}\\n')\n",
        "print(f'y ; {y}')"
      ],
      "execution_count": 14,
      "outputs": [
        {
          "output_type": "stream",
          "name": "stdout",
          "text": [
            "x:\n",
            "[[ 6]\n",
            " [ 8]\n",
            " [10]\n",
            " [14]\n",
            " [18]]\n",
            "\n",
            "x flatten : [ 6  8 10 14 18]\n",
            "\n",
            "y ; [ 7.   9.  13.  17.5 20. ]\n"
          ]
        }
      ]
    },
    {
      "cell_type": "markdown",
      "metadata": {
        "id": "UEk523p1DCuH"
      },
      "source": [
        "**Variance**"
      ]
    },
    {
      "cell_type": "code",
      "metadata": {
        "colab": {
          "base_uri": "https://localhost:8080/"
        },
        "id": "GRJUGUeEDF51",
        "outputId": "9d9b3bb1-cf07-4a7c-f1f9-93e2ef1bfaf1"
      },
      "source": [
        "variance_x = np.var(x.flatten(), ddof=1)\n",
        "print(f'variance: {variance_x}')"
      ],
      "execution_count": 15,
      "outputs": [
        {
          "output_type": "stream",
          "name": "stdout",
          "text": [
            "variance: 23.2\n"
          ]
        }
      ]
    },
    {
      "cell_type": "markdown",
      "metadata": {
        "id": "O-eUHL5IEYns"
      },
      "source": [
        "**Covariance**"
      ]
    },
    {
      "cell_type": "code",
      "metadata": {
        "colab": {
          "base_uri": "https://localhost:8080/"
        },
        "id": "dZiGdrBnEgje",
        "outputId": "91566006-71c4-4cdd-eca6-245029e8ce5c"
      },
      "source": [
        "np.cov(x.flatten(), y)"
      ],
      "execution_count": 16,
      "outputs": [
        {
          "output_type": "execute_result",
          "data": {
            "text/plain": [
              "array([[23.2 , 26.05],\n",
              "       [26.05, 30.2 ]])"
            ]
          },
          "metadata": {},
          "execution_count": 16
        }
      ]
    },
    {
      "cell_type": "code",
      "metadata": {
        "colab": {
          "base_uri": "https://localhost:8080/"
        },
        "id": "COIKwmfjEwQT",
        "outputId": "9c48046b-f0ef-4e7a-9714-8e70f5966291"
      },
      "source": [
        "covariance_xy = np.cov(x.flatten(), y)[0][1]\n",
        "print(f'covariance : {covariance_xy}')"
      ],
      "execution_count": 17,
      "outputs": [
        {
          "output_type": "stream",
          "name": "stdout",
          "text": [
            "covariance : 26.049999999999997\n"
          ]
        }
      ]
    },
    {
      "cell_type": "markdown",
      "metadata": {
        "id": "rouTLyJvF4pE"
      },
      "source": [
        "**Nilai Slope**"
      ]
    },
    {
      "cell_type": "code",
      "metadata": {
        "colab": {
          "base_uri": "https://localhost:8080/"
        },
        "id": "Lo1t7CrUGBSc",
        "outputId": "b4d2a014-3ea9-4b2a-f215-b3ee975fe54b"
      },
      "source": [
        "slope = covariance_xy / variance_x\n",
        "print(f'slope : {slope}')"
      ],
      "execution_count": 18,
      "outputs": [
        {
          "output_type": "stream",
          "name": "stdout",
          "text": [
            "slope : 1.1228448275862069\n"
          ]
        }
      ]
    },
    {
      "cell_type": "code",
      "metadata": {
        "colab": {
          "base_uri": "https://localhost:8080/"
        },
        "id": "z9ljVjkCGigN",
        "outputId": "c703c9df-595f-45de-8280-f37c56be81f9"
      },
      "source": [
        "intercept = np.mean(y) - slope * np.mean(x)\n",
        "print(f'intercept : {intercept}')"
      ],
      "execution_count": 19,
      "outputs": [
        {
          "output_type": "stream",
          "name": "stdout",
          "text": [
            "intercept : 0.724137931034484\n"
          ]
        }
      ]
    },
    {
      "cell_type": "markdown",
      "metadata": {
        "id": "sjz6J9iKHIRF"
      },
      "source": [
        "**prediksi harga bola berdasarkan ukuran diameter**"
      ]
    },
    {
      "cell_type": "code",
      "metadata": {
        "colab": {
          "base_uri": "https://localhost:8080/"
        },
        "id": "vjL8SCHHHUAs",
        "outputId": "4a191630-8342-4f57-9cbd-8090753255e6"
      },
      "source": [
        "diameter_bola = np.array([7, 13, 15]).reshape(-1,1)\n",
        "diameter_bola"
      ],
      "execution_count": 20,
      "outputs": [
        {
          "output_type": "execute_result",
          "data": {
            "text/plain": [
              "array([[ 7],\n",
              "       [13],\n",
              "       [15]])"
            ]
          },
          "metadata": {},
          "execution_count": 20
        }
      ]
    },
    {
      "cell_type": "code",
      "metadata": {
        "colab": {
          "base_uri": "https://localhost:8080/"
        },
        "id": "OdCazuXSHu3w",
        "outputId": "82c55ef8-5626-4e82-f03b-90e99693978b"
      },
      "source": [
        "prediksi_harga = model.predict(diameter_bola)\n",
        "prediksi_harga"
      ],
      "execution_count": 21,
      "outputs": [
        {
          "output_type": "execute_result",
          "data": {
            "text/plain": [
              "array([ 8.58405172, 15.32112069, 17.56681034])"
            ]
          },
          "metadata": {},
          "execution_count": 21
        }
      ]
    },
    {
      "cell_type": "code",
      "metadata": {
        "colab": {
          "base_uri": "https://localhost:8080/"
        },
        "id": "jtFihrQTH9fF",
        "outputId": "cb61e3c8-cbc8-4dd6-f74e-e5685db726bb"
      },
      "source": [
        "for dmtr, hrg in zip(diameter_bola, prediksi_harga):\n",
        "  print(f'Diameter : {dmtr} Prediksi Harga : {hrg}')\n"
      ],
      "execution_count": 22,
      "outputs": [
        {
          "output_type": "stream",
          "name": "stdout",
          "text": [
            "Diameter : [7] Prediksi Harga : 8.584051724137934\n",
            "Diameter : [13] Prediksi Harga : 15.321120689655174\n",
            "Diameter : [15] Prediksi Harga : 17.566810344827587\n"
          ]
        }
      ]
    },
    {
      "cell_type": "markdown",
      "metadata": {
        "id": "512v8MstIu31"
      },
      "source": [
        "**Evaluasi simple Linear Regression Model Training & Testing Dataset**"
      ]
    },
    {
      "cell_type": "code",
      "metadata": {
        "id": "DYydTXgMI8RU"
      },
      "source": [
        "x_train = np.array([6,8,10,14,18]).reshape(-1,1) \n",
        "y_train = np.array([7,9,13,17.5,20])\n",
        "\n",
        "x_test = np.array([8,9,11,16,12]).reshape(-1,1) \n",
        "y_test = np.array([11,8.5,15,18,11])\n"
      ],
      "execution_count": 30,
      "outputs": []
    },
    {
      "cell_type": "markdown",
      "metadata": {
        "id": "xtKQWA06JnX2"
      },
      "source": [
        "**Training Simple Linear Regression Model**"
      ]
    },
    {
      "cell_type": "code",
      "metadata": {
        "colab": {
          "base_uri": "https://localhost:8080/"
        },
        "id": "4n_XbHGUJuVA",
        "outputId": "415a4a03-2b15-4f5a-eef7-ee13b56aa296"
      },
      "source": [
        "model = LinearRegression()\n",
        "model.fit(x_train, y_train)"
      ],
      "execution_count": 31,
      "outputs": [
        {
          "output_type": "execute_result",
          "data": {
            "text/plain": [
              "LinearRegression(copy_X=True, fit_intercept=True, n_jobs=None, normalize=False)"
            ]
          },
          "metadata": {},
          "execution_count": 31
        }
      ]
    },
    {
      "cell_type": "markdown",
      "metadata": {
        "id": "IYoZFTzqJ9QG"
      },
      "source": [
        "**Evaluasi Linear Regression Model dengan Coefficient of Determination atau R-squared**"
      ]
    },
    {
      "cell_type": "code",
      "metadata": {
        "colab": {
          "base_uri": "https://localhost:8080/"
        },
        "id": "iKL5foh8KWvf",
        "outputId": "714f2578-8b90-464b-bd00-87e87522475d"
      },
      "source": [
        "from sklearn.metrics import r2_score\n",
        "\n",
        "y_pred = model.predict(x_test) \n",
        "\n",
        "r_squared = r2_score(y_test, y_pred)\n",
        "print(f'R-squared : {r_squared}')"
      ],
      "execution_count": 32,
      "outputs": [
        {
          "output_type": "stream",
          "name": "stdout",
          "text": [
            "R-squared : 0.6213315163349296\n"
          ]
        }
      ]
    }
  ]
}